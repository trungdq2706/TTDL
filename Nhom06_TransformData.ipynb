{
 "cells": [
  {
   "cell_type": "code",
   "execution_count": 20,
   "metadata": {},
   "outputs": [],
   "source": [
    "import numpy as np # linear algebra\n",
    "import pandas as pd # data processing, CSV file I/O (e.g. pd.read_csv)\n",
    "import random\n",
    "import matplotlib.pyplot as plt\n",
    "from matplotlib.dates import DateFormatter"
   ]
  },
  {
   "cell_type": "code",
   "execution_count": 21,
   "metadata": {},
   "outputs": [],
   "source": [
    "link_github = \"https://github.com/NguyenTrieu903/Sales_Product_Data_Analysis\"\n",
    "Sales_January = pd.read_csv(\"https://raw.githubusercontent.com/NguyenTrieu903/Sales_Product_Data_Analysis/main/input/Sales_January_2019.csv\")\n",
    "Sales_February = pd.read_csv(\"https://raw.githubusercontent.com/NguyenTrieu903/Sales_Product_Data_Analysis/main/input/Sales_February_2019.csv\")\n",
    "Sales_March = pd.read_csv(\"https://raw.githubusercontent.com/NguyenTrieu903/Sales_Product_Data_Analysis/main/input/Sales_March_2019.csv\")\n",
    "Sales_April = pd.read_csv(\"https://raw.githubusercontent.com/NguyenTrieu903/Sales_Product_Data_Analysis/main/input/Sales_April_2019.csv\")\n",
    "Sales_May = pd.read_csv(\"https://raw.githubusercontent.com/NguyenTrieu903/Sales_Product_Data_Analysis/main/input/Sales_May_2019.csv\")\n",
    "Sales_June = pd.read_csv(\"https://raw.githubusercontent.com/NguyenTrieu903/Sales_Product_Data_Analysis/main/input/Sales_June_2019.csv\")\n",
    "Sales_July = pd.read_csv(\"https://raw.githubusercontent.com/NguyenTrieu903/Sales_Product_Data_Analysis/main/input/Sales_July_2019.csv\")\n",
    "Sales_August = pd.read_csv(\"https://raw.githubusercontent.com/NguyenTrieu903/Sales_Product_Data_Analysis/main/input/Sales_August_2019.csv\")\n",
    "Sales_September = pd.read_csv(\"https://raw.githubusercontent.com/NguyenTrieu903/Sales_Product_Data_Analysis/main/input/Sales_September_2019.csv\")\n",
    "Sales_October = pd.read_csv(\"https://raw.githubusercontent.com/NguyenTrieu903/Sales_Product_Data_Analysis/main/input/Sales_October_2019.csv\")\n",
    "Sales_November = pd.read_csv(\"https://raw.githubusercontent.com/NguyenTrieu903/Sales_Product_Data_Analysis/main/input/Sales_November_2019.csv\")\n",
    "Sales_December = pd.read_csv(\"https://raw.githubusercontent.com/NguyenTrieu903/Sales_Product_Data_Analysis/main/input/Sales_December_2019.csv\")"
   ]
  },
  {
   "cell_type": "code",
   "execution_count": 22,
   "metadata": {},
   "outputs": [],
   "source": [
    "list_Sales_Year_2019 = [Sales_January, Sales_February, Sales_March, Sales_April, Sales_May, Sales_June, Sales_July, Sales_August, Sales_September, Sales_October, Sales_November, Sales_December]"
   ]
  },
  {
   "cell_type": "code",
   "execution_count": 23,
   "metadata": {},
   "outputs": [
    {
     "name": "stdout",
     "output_type": "stream",
     "text": [
      "[     Order ID                   Product Quantity Ordered Price Each  \\\n",
      "0      141234                    iPhone                1        700   \n",
      "1      141235  Lightning Charging Cable                1      14.95   \n",
      "2      141236          Wired Headphones                2      11.99   \n",
      "3      141237          27in FHD Monitor                1     149.99   \n",
      "4      141238          Wired Headphones                1      11.99   \n",
      "...       ...                       ...              ...        ...   \n",
      "9718   150497              20in Monitor                1     109.99   \n",
      "9719   150498          27in FHD Monitor                1     149.99   \n",
      "9720   150499           ThinkPad Laptop                1     999.99   \n",
      "9721   150500    AAA Batteries (4-pack)                2       2.99   \n",
      "9722   150501              Google Phone                1        600   \n",
      "\n",
      "          Order Date                       Purchase Address  \n",
      "0     01/22/19 21:25        944 Walnut St, Boston, MA 02215  \n",
      "1     01/28/19 14:15       185 Maple St, Portland, OR 97035  \n",
      "2     01/17/19 13:33  538 Adams St, San Francisco, CA 94016  \n",
      "3     01/05/19 20:33     738 10th St, Los Angeles, CA 90001  \n",
      "4     01/25/19 11:59          387 10th St, Austin, TX 73301  \n",
      "...              ...                                    ...  \n",
      "9718  01/26/19 19:09            95 8th St, Dallas, TX 75001  \n",
      "9719  01/10/19 22:58    403 7th St, San Francisco, CA 94016  \n",
      "9720  01/21/19 14:31        214 Main St, Portland, OR 97035  \n",
      "9721  01/15/19 14:21      810 2nd St, Los Angeles, CA 90001  \n",
      "9722  01/13/19 16:43         428 Cedar St, Boston, MA 02215  \n",
      "\n",
      "[9723 rows x 6 columns],       Order ID                   Product Quantity Ordered Price Each  \\\n",
      "0       150502                    iPhone                1        700   \n",
      "1       150503     AA Batteries (4-pack)                1       3.84   \n",
      "2       150504    27in 4K Gaming Monitor                1     389.99   \n",
      "3       150505  Lightning Charging Cable                1      14.95   \n",
      "4       150506     AA Batteries (4-pack)                2       3.84   \n",
      "...        ...                       ...              ...        ...   \n",
      "12031   162004  Apple Airpods Headphones                1        150   \n",
      "12032   162005    AAA Batteries (4-pack)                2       2.99   \n",
      "12033   162006      USB-C Charging Cable                1      11.95   \n",
      "12034   162007      USB-C Charging Cable                1      11.95   \n",
      "12035   162008          27in FHD Monitor                1     149.99   \n",
      "\n",
      "           Order Date                         Purchase Address  \n",
      "0      02/18/19 01:35        866 Spruce St, Portland, ME 04101  \n",
      "1      02/13/19 07:24      18 13th St, San Francisco, CA 94016  \n",
      "2      02/18/19 09:46       52 6th St, New York City, NY 10001  \n",
      "3      02/02/19 16:47         129 Cherry St, Atlanta, GA 30301  \n",
      "4      02/28/19 20:32        548 Lincoln St, Seattle, WA 98101  \n",
      "...               ...                                      ...  \n",
      "12031  02/12/19 22:02   227 Church St, San Francisco, CA 94016  \n",
      "12032  02/04/19 20:44  417 Jefferson St, Los Angeles, CA 90001  \n",
      "12033  02/24/19 06:31            498 8th St, Atlanta, GA 30301  \n",
      "12034  02/24/19 19:09             715 7th St, Dallas, TX 75001  \n",
      "12035  02/26/19 17:15       677 West St, Los Angeles, CA 90001  \n",
      "\n",
      "[12036 rows x 6 columns],       Order ID                     Product Quantity Ordered Price Each  \\\n",
      "0       162009                      iPhone                1        700   \n",
      "1       162009    Lightning Charging Cable                1      14.95   \n",
      "2       162009            Wired Headphones                2      11.99   \n",
      "3       162010  Bose SoundSport Headphones                1      99.99   \n",
      "4       162011      34in Ultrawide Monitor                1     379.99   \n",
      "...        ...                         ...              ...        ...   \n",
      "15221   176554    Lightning Charging Cable                1      14.95   \n",
      "15222   176555            27in FHD Monitor                1     149.99   \n",
      "15223   176556      AAA Batteries (4-pack)                3       2.99   \n",
      "15224   176557                      iPhone                1        700   \n",
      "15225   176557    Lightning Charging Cable                1      14.95   \n",
      "\n",
      "           Order Date                           Purchase Address  \n",
      "0      03/28/19 20:59            942 Church St, Austin, TX 73301  \n",
      "1      03/28/19 20:59            942 Church St, Austin, TX 73301  \n",
      "2      03/28/19 20:59            942 Church St, Austin, TX 73301  \n",
      "3      03/17/19 05:39       261 10th St, San Francisco, CA 94016  \n",
      "4      03/10/19 00:01       764 13th St, San Francisco, CA 94016  \n",
      "...               ...                                        ...  \n",
      "15221  03/24/19 11:14       672 12th St, San Francisco, CA 94016  \n",
      "15222  03/22/19 20:27         42 4th St, San Francisco, CA 94016  \n",
      "15223  03/14/19 10:29          871 7th St, Los Angeles, CA 90001  \n",
      "15224  03/30/19 12:32  83 Washington St, San Francisco, CA 94016  \n",
      "15225  03/30/19 12:32  83 Washington St, San Francisco, CA 94016  \n",
      "\n",
      "[15226 rows x 6 columns],       Order ID                     Product Quantity Ordered Price Each  \\\n",
      "0       176558        USB-C Charging Cable                2      11.95   \n",
      "1       176559  Bose SoundSport Headphones                1      99.99   \n",
      "2       176560                Google Phone                1        600   \n",
      "3       176560            Wired Headphones                1      11.99   \n",
      "4       176561            Wired Headphones                1      11.99   \n",
      "...        ...                         ...              ...        ...   \n",
      "18377   194090                Google Phone                1        600   \n",
      "18378   194091       AA Batteries (4-pack)                1       3.84   \n",
      "18379   194092      AAA Batteries (4-pack)                2       2.99   \n",
      "18380   194093       AA Batteries (4-pack)                1       3.84   \n",
      "18381   194094    Lightning Charging Cable                1      14.95   \n",
      "\n",
      "            Order Date                        Purchase Address  \n",
      "0       4/19/2019 8:46            917 1st St, Dallas, TX 75001  \n",
      "1       4/7/2019 22:30       682 Chestnut St, Boston, MA 02215  \n",
      "2      4/12/2019 14:38    669 Spruce St, Los Angeles, CA 90001  \n",
      "3      4/12/2019 14:38    669 Spruce St, Los Angeles, CA 90001  \n",
      "4       4/30/2019 9:27       333 8th St, Los Angeles, CA 90001  \n",
      "...                ...                                     ...  \n",
      "18377   4/8/2019 17:11   177 Jackson St, Los Angeles, CA 90001  \n",
      "18378  4/15/2019 16:02         311 Forest St, Austin, TX 73301  \n",
      "18379  4/28/2019 14:36  347 Sunset St, San Francisco, CA 94016  \n",
      "18380  4/14/2019 15:09         835 Lake St, Portland, OR 97035  \n",
      "18381  4/18/2019 11:08          354 North St, Boston, MA 02215  \n",
      "\n",
      "[18382 rows x 6 columns],       Order ID                     Product Quantity Ordered Price Each  \\\n",
      "0       194095            Wired Headphones                1      11.99   \n",
      "1       194096       AA Batteries (4-pack)                1       3.84   \n",
      "2       194097            27in FHD Monitor                1     149.99   \n",
      "3       194098            Wired Headphones                1      11.99   \n",
      "4       194099      AAA Batteries (4-pack)                2       2.99   \n",
      "...        ...                         ...              ...        ...   \n",
      "16630   209916  Bose SoundSport Headphones                1      99.99   \n",
      "16631   209917            Wired Headphones                1      11.99   \n",
      "16632   209918      AAA Batteries (4-pack)                2       2.99   \n",
      "16633   209919        USB-C Charging Cable                1      11.95   \n",
      "16634   209920             ThinkPad Laptop                1     999.99   \n",
      "\n",
      "           Order Date                         Purchase Address  \n",
      "0      05/16/19 17:14      669 2nd St, New York City, NY 10001  \n",
      "1      05/19/19 14:43          844 Walnut St, Dallas, TX 75001  \n",
      "2      05/24/19 11:36  164 Madison St, New York City, NY 10001  \n",
      "3      05/02/19 20:40          622 Meadow St, Dallas, TX 75001  \n",
      "4      05/11/19 22:55          17 Church St, Seattle, WA 98101  \n",
      "...               ...                                      ...  \n",
      "16630  05/08/19 19:15         235 Center St, Seattle, WA 98101  \n",
      "16631  05/24/19 22:02      926 9th St, San Francisco, CA 94016  \n",
      "16632  05/24/19 17:44         868 Hickory St, Boston, MA 02215  \n",
      "16633  05/04/19 12:46          204 Adams St, Seattle, WA 98101  \n",
      "16634  05/18/19 23:07             43 5th St, Atlanta, GA 30301  \n",
      "\n",
      "[16635 rows x 6 columns],       Order ID                     Product Quantity Ordered Price Each  \\\n",
      "0       209921        USB-C Charging Cable                1      11.95   \n",
      "1       209922          Macbook Pro Laptop                1     1700.0   \n",
      "2       209923             ThinkPad Laptop                1     999.99   \n",
      "3       209924            27in FHD Monitor                1     149.99   \n",
      "4       209925  Bose SoundSport Headphones                1      99.99   \n",
      "...        ...                         ...              ...        ...   \n",
      "13617   222905      AAA Batteries (4-pack)                1       2.99   \n",
      "13618   222906            27in FHD Monitor                1     149.99   \n",
      "13619   222907        USB-C Charging Cable                1      11.95   \n",
      "13620   222908        USB-C Charging Cable                1      11.95   \n",
      "13621   222909      AAA Batteries (4-pack)                1       2.99   \n",
      "\n",
      "           Order Date                       Purchase Address  \n",
      "0      06/23/19 19:34      950 Walnut St, Portland, ME 04101  \n",
      "1      06/30/19 10:05     80 4th St, San Francisco, CA 94016  \n",
      "2      06/24/19 20:18  402 Jackson St, Los Angeles, CA 90001  \n",
      "3      06/05/19 10:21         560 10th St, Seattle, WA 98101  \n",
      "4      06/25/19 18:58    545 2nd St, San Francisco, CA 94016  \n",
      "...               ...                                    ...  \n",
      "13617  06/07/19 19:02          795 Pine St, Boston, MA 02215  \n",
      "13618  06/01/19 19:29  495 North St, New York City, NY 10001  \n",
      "13619  06/22/19 18:57  319 Ridge St, San Francisco, CA 94016  \n",
      "13620  06/26/19 18:35   916 Main St, San Francisco, CA 94016  \n",
      "13621  06/25/19 14:33         209 11th St, Atlanta, GA 30301  \n",
      "\n",
      "[13622 rows x 6 columns],       Order ID                   Product Quantity Ordered Price Each  \\\n",
      "0       222910  Apple Airpods Headphones                1        150   \n",
      "1       222911             Flatscreen TV                1        300   \n",
      "2       222912     AA Batteries (4-pack)                1       3.84   \n",
      "3       222913     AA Batteries (4-pack)                1       3.84   \n",
      "4       222914    AAA Batteries (4-pack)                5       2.99   \n",
      "...        ...                       ...              ...        ...   \n",
      "14366   236665          Wired Headphones                1      11.99   \n",
      "14367   236666              20in Monitor                1     109.99   \n",
      "14368   236667    AAA Batteries (4-pack)                1       2.99   \n",
      "14369   236668          Wired Headphones                1      11.99   \n",
      "14370   236669    AAA Batteries (4-pack)                1       2.99   \n",
      "\n",
      "           Order Date                      Purchase Address  \n",
      "0      07/26/19 16:51       389 South St, Atlanta, GA 30301  \n",
      "1      07/05/19 08:55         590 4th St, Seattle, WA 98101  \n",
      "2      07/29/19 12:41        861 Hill St, Atlanta, GA 30301  \n",
      "3      07/28/19 10:15       190 Ridge St, Atlanta, GA 30301  \n",
      "4      07/31/19 02:13      824 Forest St, Seattle, WA 98101  \n",
      "...               ...                                   ...  \n",
      "14366  07/20/19 16:16      694 Meadow St, Atlanta, GA 30301  \n",
      "14367  07/31/19 20:11  866 14th St, San Francisco, CA 94016  \n",
      "14368  07/17/19 22:29       249 Cherry St, Dallas, TX 75001  \n",
      "14369  07/30/19 19:28       727 Wilson St, Austin, TX 73301  \n",
      "14370  07/10/19 01:50   743 9th St, New York City, NY 10001  \n",
      "\n",
      "[14371 rows x 6 columns],       Order ID                     Product Quantity Ordered Price Each  \\\n",
      "0       236670            Wired Headphones                2      11.99   \n",
      "1       236671  Bose SoundSport Headphones                1      99.99   \n",
      "2       236672                      iPhone                1      700.0   \n",
      "3       236673       AA Batteries (4-pack)                2       3.84   \n",
      "4       236674       AA Batteries (4-pack)                2       3.84   \n",
      "...        ...                         ...              ...        ...   \n",
      "12006   248146  Bose SoundSport Headphones                1      99.99   \n",
      "12007   248147      AAA Batteries (4-pack)                3       2.99   \n",
      "12008   248148       AA Batteries (4-pack)                1       3.84   \n",
      "12009   248149        USB-C Charging Cable                1      11.95   \n",
      "12010   248150       AA Batteries (4-pack)                1       3.84   \n",
      "\n",
      "           Order Date                         Purchase Address  \n",
      "0      08/31/19 22:21         359 Spruce St, Seattle, WA 98101  \n",
      "1      08/15/19 15:11           492 Ridge St, Dallas, TX 75001  \n",
      "2      08/06/19 14:40           149 7th St, Portland, OR 97035  \n",
      "3      08/29/19 20:59        631 2nd St, Los Angeles, CA 90001  \n",
      "4      08/15/19 19:53     736 14th St, New York City, NY 10001  \n",
      "...               ...                                      ...  \n",
      "12006  08/29/19 22:19  868 Hickory St, San Francisco, CA 94016  \n",
      "12007  08/31/19 16:26        206 Lakeview St, Boston, MA 02215  \n",
      "12008  08/02/19 07:25           568 13th St, Seattle, WA 98101  \n",
      "12009  08/08/19 12:10   495 Walnut St, San Francisco, CA 94016  \n",
      "12010  08/16/19 08:13       738 Park St, Los Angeles, CA 90001  \n",
      "\n",
      "[12011 rows x 6 columns],       Order ID                 Product Quantity Ordered Price Each  \\\n",
      "0       248151   AA Batteries (4-pack)                4       3.84   \n",
      "1       248152    USB-C Charging Cable                2      11.95   \n",
      "2       248153    USB-C Charging Cable                1      11.95   \n",
      "3       248154        27in FHD Monitor                1     149.99   \n",
      "4       248155    USB-C Charging Cable                1      11.95   \n",
      "...        ...                     ...              ...        ...   \n",
      "11681   259353  AAA Batteries (4-pack)                3       2.99   \n",
      "11682   259354                  iPhone                1        700   \n",
      "11683   259355                  iPhone                1        700   \n",
      "11684   259356  34in Ultrawide Monitor                1     379.99   \n",
      "11685   259357    USB-C Charging Cable                1      11.95   \n",
      "\n",
      "           Order Date                         Purchase Address  \n",
      "0      09/17/19 14:44      380 North St, Los Angeles, CA 90001  \n",
      "1      09/29/19 10:19             511 8th St, Austin, TX 73301  \n",
      "2      09/16/19 17:48    151 Johnson St, Los Angeles, CA 90001  \n",
      "3      09/27/19 07:52        355 Hickory St, Seattle, WA 98101  \n",
      "4      09/01/19 19:03            125 5th St, Atlanta, GA 30301  \n",
      "...               ...                                      ...  \n",
      "11681  09/17/19 20:56   840 Highland St, Los Angeles, CA 90001  \n",
      "11682  09/01/19 16:00  216 Dogwood St, San Francisco, CA 94016  \n",
      "11683  09/23/19 07:39     220 12th St, San Francisco, CA 94016  \n",
      "11684  09/19/19 17:30   511 Forest St, San Francisco, CA 94016  \n",
      "11685  09/30/19 00:18   250 Meadow St, San Francisco, CA 94016  \n",
      "\n",
      "[11686 rows x 6 columns],       Order ID                 Product Quantity Ordered Price Each  \\\n",
      "0       259358  34in Ultrawide Monitor                1     379.99   \n",
      "1       259359  27in 4K Gaming Monitor                1     389.99   \n",
      "2       259360  AAA Batteries (4-pack)                2       2.99   \n",
      "3       259361        27in FHD Monitor                1     149.99   \n",
      "4       259362        Wired Headphones                1      11.99   \n",
      "...        ...                     ...              ...        ...   \n",
      "20374   278792   AA Batteries (4-pack)                1       3.84   \n",
      "20375   278793        Wired Headphones                1      11.99   \n",
      "20376   278794   AA Batteries (4-pack)                1       3.84   \n",
      "20377   278795                  iPhone                1        700   \n",
      "20378   278796        Wired Headphones                1      11.99   \n",
      "\n",
      "           Order Date                           Purchase Address  \n",
      "0      10/28/19 10:56            609 Cherry St, Dallas, TX 75001  \n",
      "1      10/28/19 17:26          225 5th St, Los Angeles, CA 90001  \n",
      "2      10/24/19 17:20       967 12th St, New York City, NY 10001  \n",
      "3      10/14/19 22:26  628 Jefferson St, New York City, NY 10001  \n",
      "4      10/07/19 16:10         534 14th St, Los Angeles, CA 90001  \n",
      "...               ...                                        ...  \n",
      "20374  10/12/19 04:32      920 Adams St, San Francisco, CA 94016  \n",
      "20375  10/28/19 22:00     161 Chestnut St, Los Angeles, CA 90001  \n",
      "20376  10/09/19 20:58     346 Spruce St, San Francisco, CA 94016  \n",
      "20377  10/31/19 17:21             291 Hill St, Seattle, WA 98101  \n",
      "20378  10/13/19 11:20    547 Jefferson St, Los Angeles, CA 90001  \n",
      "\n",
      "[20379 rows x 6 columns],       Order ID                     Product Quantity Ordered Price Each  \\\n",
      "0       278797            Wired Headphones                1      11.99   \n",
      "1       278798        USB-C Charging Cable                2      11.95   \n",
      "2       278799    Apple Airpods Headphones                1      150.0   \n",
      "3       278800            27in FHD Monitor                1     149.99   \n",
      "4       278801  Bose SoundSport Headphones                1      99.99   \n",
      "...        ...                         ...              ...        ...   \n",
      "17656   295660      AAA Batteries (4-pack)                2       2.99   \n",
      "17657   295661        USB-C Charging Cable                1      11.95   \n",
      "17658   295662    Lightning Charging Cable                1      14.95   \n",
      "17659   295663      AAA Batteries (4-pack)                1       2.99   \n",
      "17660   295664                Google Phone                1        600   \n",
      "\n",
      "           Order Date                      Purchase Address  \n",
      "0      11/21/19 09:54   46 Park St, New York City, NY 10001  \n",
      "1      11/17/19 10:03      962 Hickory St, Austin, TX 73301  \n",
      "2      11/19/19 14:56  464 Cherry St, Los Angeles, CA 90001  \n",
      "3      11/25/19 22:24        649 10th St, Seattle, WA 98101  \n",
      "4      11/09/19 13:56         522 Hill St, Boston, MA 02215  \n",
      "...               ...                                   ...  \n",
      "17656  11/04/19 14:17     574 4th St, Los Angeles, CA 90001  \n",
      "17657  11/23/19 07:22          359 1st St, Austin, TX 73301  \n",
      "17658  11/13/19 16:12         900 10th St, Boston, MA 02215  \n",
      "17659  11/17/19 17:08       592 Sunset St, Boston, MA 02215  \n",
      "17660  11/17/19 16:13      428 Jackson St, Boston, MA 02215  \n",
      "\n",
      "[17661 rows x 6 columns],       Order ID                     Product Quantity Ordered Price Each  \\\n",
      "0       295665          Macbook Pro Laptop                1       1700   \n",
      "1       295666          LG Washing Machine                1      600.0   \n",
      "2       295667        USB-C Charging Cable                1      11.95   \n",
      "3       295668            27in FHD Monitor                1     149.99   \n",
      "4       295669        USB-C Charging Cable                1      11.95   \n",
      "...        ...                         ...              ...        ...   \n",
      "25112   319666    Lightning Charging Cable                1      14.95   \n",
      "25113   319667       AA Batteries (4-pack)                2       3.84   \n",
      "25114   319668             Vareebadd Phone                1        400   \n",
      "25115   319669            Wired Headphones                1      11.99   \n",
      "25116   319670  Bose SoundSport Headphones                1      99.99   \n",
      "\n",
      "           Order Date                        Purchase Address  \n",
      "0      12/30/19 00:01  136 Church St, New York City, NY 10001  \n",
      "1      12/29/19 07:03     562 2nd St, New York City, NY 10001  \n",
      "2      12/12/19 18:21    277 Main St, New York City, NY 10001  \n",
      "3      12/22/19 15:13     410 6th St, San Francisco, CA 94016  \n",
      "4      12/18/19 12:38           43 Hill St, Atlanta, GA 30301  \n",
      "...               ...                                     ...  \n",
      "25112  12/11/19 20:58  14 Madison St, San Francisco, CA 94016  \n",
      "25113  12/01/19 12:01    549 Willow St, Los Angeles, CA 90001  \n",
      "25114  12/09/19 06:43        273 Wilson St, Seattle, WA 98101  \n",
      "25115  12/03/19 10:39          778 River St, Dallas, TX 75001  \n",
      "25116  12/21/19 21:45  747 Chestnut St, Los Angeles, CA 90001  \n",
      "\n",
      "[25117 rows x 6 columns]]\n"
     ]
    }
   ],
   "source": [
    "print(list_Sales_Year_2019)"
   ]
  },
  {
   "cell_type": "code",
   "execution_count": 24,
   "metadata": {},
   "outputs": [
    {
     "data": {
      "text/plain": [
       "(186849, 6)"
      ]
     },
     "execution_count": 24,
     "metadata": {},
     "output_type": "execute_result"
    }
   ],
   "source": [
    "total_sales_2019 = pd.DataFrame()\n",
    "for sales_month in list_Sales_Year_2019:\n",
    "    total_sales_2019 = pd.concat([total_sales_2019, sales_month])\n",
    "\n",
    "total_sales_2019.shape"
   ]
  },
  {
   "cell_type": "code",
   "execution_count": 25,
   "metadata": {},
   "outputs": [
    {
     "name": "stdout",
     "output_type": "stream",
     "text": [
      "<class 'pandas.core.frame.DataFrame'>\n",
      "Int64Index: 186849 entries, 0 to 25116\n",
      "Data columns (total 6 columns):\n",
      " #   Column            Non-Null Count   Dtype \n",
      "---  ------            --------------   ----- \n",
      " 0   Order ID          186305 non-null  object\n",
      " 1   Product           186305 non-null  object\n",
      " 2   Quantity Ordered  186305 non-null  object\n",
      " 3   Price Each        186305 non-null  object\n",
      " 4   Order Date        186305 non-null  object\n",
      " 5   Purchase Address  186305 non-null  object\n",
      "dtypes: object(6)\n",
      "memory usage: 10.0+ MB\n"
     ]
    }
   ],
   "source": [
    "total_sales_2019.info()"
   ]
  },
  {
   "cell_type": "code",
   "execution_count": 26,
   "metadata": {},
   "outputs": [
    {
     "data": {
      "text/plain": [
       "Order ID            544\n",
       "Product             544\n",
       "Quantity Ordered    544\n",
       "Price Each          544\n",
       "Order Date          544\n",
       "Purchase Address    544\n",
       "dtype: int64"
      ]
     },
     "execution_count": 26,
     "metadata": {},
     "output_type": "execute_result"
    }
   ],
   "source": [
    "total_sales_2019.isnull().sum()"
   ]
  },
  {
   "cell_type": "code",
   "execution_count": 27,
   "metadata": {},
   "outputs": [
    {
     "data": {
      "text/plain": [
       "Order ID            0\n",
       "Product             0\n",
       "Quantity Ordered    0\n",
       "Price Each          0\n",
       "Order Date          0\n",
       "Purchase Address    0\n",
       "dtype: int64"
      ]
     },
     "execution_count": 27,
     "metadata": {},
     "output_type": "execute_result"
    }
   ],
   "source": [
    "total_sales_2019 = total_sales_2019.dropna()\n",
    "total_sales_2019.isnull().sum()"
   ]
  },
  {
   "cell_type": "code",
   "execution_count": 28,
   "metadata": {},
   "outputs": [
    {
     "data": {
      "text/plain": [
       "(186305, 6)"
      ]
     },
     "execution_count": 28,
     "metadata": {},
     "output_type": "execute_result"
    }
   ],
   "source": [
    "total_sales_2019.shape"
   ]
  },
  {
   "cell_type": "code",
   "execution_count": 29,
   "metadata": {},
   "outputs": [
    {
     "data": {
      "text/plain": [
       "array(['1', '2', '3', '5', '4', '7', 'Quantity Ordered', '6', '9', '8'],\n",
       "      dtype=object)"
      ]
     },
     "execution_count": 29,
     "metadata": {},
     "output_type": "execute_result"
    }
   ],
   "source": [
    "total_sales_2019['Quantity Ordered'].unique()"
   ]
  },
  {
   "cell_type": "code",
   "execution_count": 30,
   "metadata": {},
   "outputs": [
    {
     "data": {
      "text/plain": [
       "array(['1', '2', '3', '5', '4', '7', '6', '9', '8'], dtype=object)"
      ]
     },
     "execution_count": 30,
     "metadata": {},
     "output_type": "execute_result"
    }
   ],
   "source": [
    "filter = total_sales_2019['Quantity Ordered'] == 'Quantity Ordered'\n",
    "total_sales_2019 = total_sales_2019[~filter]\n",
    "\n",
    "total_sales_2019['Quantity Ordered'].unique()"
   ]
  },
  {
   "cell_type": "code",
   "execution_count": 31,
   "metadata": {},
   "outputs": [
    {
     "data": {
      "text/plain": [
       "(185950, 6)"
      ]
     },
     "execution_count": 31,
     "metadata": {},
     "output_type": "execute_result"
    }
   ],
   "source": [
    "total_sales_2019.shape"
   ]
  },
  {
   "cell_type": "code",
   "execution_count": 32,
   "metadata": {},
   "outputs": [],
   "source": [
    "total_sales_2019['Quantity Ordered'] = total_sales_2019['Quantity Ordered'].astype(int)\n",
    "total_sales_2019['Price Each'] = total_sales_2019['Price Each'].astype(float)\n",
    "total_sales_2019['Order Date'] = pd.to_datetime(total_sales_2019['Order Date'])"
   ]
  },
  {
   "cell_type": "code",
   "execution_count": 33,
   "metadata": {},
   "outputs": [
    {
     "data": {
      "text/html": [
       "<div>\n",
       "<style scoped>\n",
       "    .dataframe tbody tr th:only-of-type {\n",
       "        vertical-align: middle;\n",
       "    }\n",
       "\n",
       "    .dataframe tbody tr th {\n",
       "        vertical-align: top;\n",
       "    }\n",
       "\n",
       "    .dataframe thead th {\n",
       "        text-align: right;\n",
       "    }\n",
       "</style>\n",
       "<table border=\"1\" class=\"dataframe\">\n",
       "  <thead>\n",
       "    <tr style=\"text-align: right;\">\n",
       "      <th></th>\n",
       "      <th>Order ID</th>\n",
       "      <th>Product</th>\n",
       "      <th>Quantity Ordered</th>\n",
       "      <th>Price Each</th>\n",
       "      <th>Order Date</th>\n",
       "      <th>Purchase Address</th>\n",
       "      <th>State</th>\n",
       "      <th>Sales</th>\n",
       "    </tr>\n",
       "  </thead>\n",
       "  <tbody>\n",
       "    <tr>\n",
       "      <th>0</th>\n",
       "      <td>141234</td>\n",
       "      <td>iPhone</td>\n",
       "      <td>1</td>\n",
       "      <td>700.00</td>\n",
       "      <td>2019-01-22 21:25:00</td>\n",
       "      <td>944 Walnut St, Boston, MA 02215</td>\n",
       "      <td>MA</td>\n",
       "      <td>700.00</td>\n",
       "    </tr>\n",
       "    <tr>\n",
       "      <th>1</th>\n",
       "      <td>141235</td>\n",
       "      <td>Lightning Charging Cable</td>\n",
       "      <td>1</td>\n",
       "      <td>14.95</td>\n",
       "      <td>2019-01-28 14:15:00</td>\n",
       "      <td>185 Maple St, Portland, OR 97035</td>\n",
       "      <td>OR</td>\n",
       "      <td>14.95</td>\n",
       "    </tr>\n",
       "    <tr>\n",
       "      <th>2</th>\n",
       "      <td>141236</td>\n",
       "      <td>Wired Headphones</td>\n",
       "      <td>2</td>\n",
       "      <td>11.99</td>\n",
       "      <td>2019-01-17 13:33:00</td>\n",
       "      <td>538 Adams St, San Francisco, CA 94016</td>\n",
       "      <td>CA</td>\n",
       "      <td>23.98</td>\n",
       "    </tr>\n",
       "    <tr>\n",
       "      <th>3</th>\n",
       "      <td>141237</td>\n",
       "      <td>27in FHD Monitor</td>\n",
       "      <td>1</td>\n",
       "      <td>149.99</td>\n",
       "      <td>2019-01-05 20:33:00</td>\n",
       "      <td>738 10th St, Los Angeles, CA 90001</td>\n",
       "      <td>CA</td>\n",
       "      <td>149.99</td>\n",
       "    </tr>\n",
       "    <tr>\n",
       "      <th>4</th>\n",
       "      <td>141238</td>\n",
       "      <td>Wired Headphones</td>\n",
       "      <td>1</td>\n",
       "      <td>11.99</td>\n",
       "      <td>2019-01-25 11:59:00</td>\n",
       "      <td>387 10th St, Austin, TX 73301</td>\n",
       "      <td>TX</td>\n",
       "      <td>11.99</td>\n",
       "    </tr>\n",
       "  </tbody>\n",
       "</table>\n",
       "</div>"
      ],
      "text/plain": [
       "  Order ID                   Product  Quantity Ordered  Price Each  \\\n",
       "0   141234                    iPhone                 1      700.00   \n",
       "1   141235  Lightning Charging Cable                 1       14.95   \n",
       "2   141236          Wired Headphones                 2       11.99   \n",
       "3   141237          27in FHD Monitor                 1      149.99   \n",
       "4   141238          Wired Headphones                 1       11.99   \n",
       "\n",
       "           Order Date                       Purchase Address State   Sales  \n",
       "0 2019-01-22 21:25:00        944 Walnut St, Boston, MA 02215    MA  700.00  \n",
       "1 2019-01-28 14:15:00       185 Maple St, Portland, OR 97035    OR   14.95  \n",
       "2 2019-01-17 13:33:00  538 Adams St, San Francisco, CA 94016    CA   23.98  \n",
       "3 2019-01-05 20:33:00     738 10th St, Los Angeles, CA 90001    CA  149.99  \n",
       "4 2019-01-25 11:59:00          387 10th St, Austin, TX 73301    TX   11.99  "
      ]
     },
     "execution_count": 33,
     "metadata": {},
     "output_type": "execute_result"
    }
   ],
   "source": [
    "def state(x):\n",
    "    state = x.split(',')[2]\n",
    "    return state.split(' ')[1]\n",
    "total_sales_2019['State'] = total_sales_2019['Purchase Address'].apply(state)\n",
    "total_sales_2019['Sales'] = total_sales_2019['Quantity Ordered'] * total_sales_2019['Price Each'] \n",
    "total_sales_2019.head()"
   ]
  },
  {
   "cell_type": "code",
   "execution_count": 34,
   "metadata": {},
   "outputs": [
    {
     "data": {
      "text/html": [
       "<div>\n",
       "<style scoped>\n",
       "    .dataframe tbody tr th:only-of-type {\n",
       "        vertical-align: middle;\n",
       "    }\n",
       "\n",
       "    .dataframe tbody tr th {\n",
       "        vertical-align: top;\n",
       "    }\n",
       "\n",
       "    .dataframe thead th {\n",
       "        text-align: right;\n",
       "    }\n",
       "</style>\n",
       "<table border=\"1\" class=\"dataframe\">\n",
       "  <thead>\n",
       "    <tr style=\"text-align: right;\">\n",
       "      <th></th>\n",
       "      <th>Sales</th>\n",
       "    </tr>\n",
       "    <tr>\n",
       "      <th>Month</th>\n",
       "      <th></th>\n",
       "    </tr>\n",
       "  </thead>\n",
       "  <tbody>\n",
       "    <tr>\n",
       "      <th>4</th>\n",
       "      <td>3390670.24</td>\n",
       "    </tr>\n",
       "    <tr>\n",
       "      <th>5</th>\n",
       "      <td>3152606.75</td>\n",
       "    </tr>\n",
       "    <tr>\n",
       "      <th>6</th>\n",
       "      <td>2577802.26</td>\n",
       "    </tr>\n",
       "  </tbody>\n",
       "</table>\n",
       "</div>"
      ],
      "text/plain": [
       "            Sales\n",
       "Month            \n",
       "4      3390670.24\n",
       "5      3152606.75\n",
       "6      2577802.26"
      ]
     },
     "execution_count": 34,
     "metadata": {},
     "output_type": "execute_result"
    }
   ],
   "source": [
    "total_sales_2019['Month'] = total_sales_2019['Order Date'].dt.month\n",
    "Sales_Month = total_sales_2019.groupby('Month')['Sales'].sum()\n",
    "Sales_Month = Sales_Month.to_frame()\n",
    "Sales_Month[3:6]"
   ]
  },
  {
   "cell_type": "code",
   "execution_count": 35,
   "metadata": {},
   "outputs": [],
   "source": [
    "path='D:\\\\SV3_2\\\\Visual data interaction'\n",
    "csv_data = total_sales_2019.to_csv(path+'total_sales_2019.csv')"
   ]
  },
  {
   "cell_type": "code",
   "execution_count": 38,
   "metadata": {},
   "outputs": [],
   "source": [
    "path='D:\\\\SV3_2\\\\Visual data interaction'\n",
    "csv_data = Sales_Month.to_csv(path+'Sales_Month.csv')"
   ]
  },
  {
   "cell_type": "code",
   "execution_count": null,
   "metadata": {},
   "outputs": [],
   "source": []
  }
 ],
 "metadata": {
  "kernelspec": {
   "display_name": "Python 3.9.8 64-bit",
   "language": "python",
   "name": "python3"
  },
  "language_info": {
   "codemirror_mode": {
    "name": "ipython",
    "version": 3
   },
   "file_extension": ".py",
   "mimetype": "text/x-python",
   "name": "python",
   "nbconvert_exporter": "python",
   "pygments_lexer": "ipython3",
   "version": "3.9.8"
  },
  "orig_nbformat": 4,
  "vscode": {
   "interpreter": {
    "hash": "14958d3aee5f1cad06795f787e54b96185c25fb40dfec723a5be941f3a531b8c"
   }
  }
 },
 "nbformat": 4,
 "nbformat_minor": 2
}
